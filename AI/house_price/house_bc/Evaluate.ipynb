{
 "cells": [
  {
   "cell_type": "code",
   "execution_count": null,
   "metadata": {},
   "outputs": [],
   "source": [
    "import numpy as np\n",
    "import pandas as pd\n",
    "import torch\n",
    "import torch.nn.functional as F\n",
    "import torchmetrics\n",
    "\n",
    "from nn import ANN\n",
    "from eval import KFoldCV"
   ]
  },
  {
   "cell_type": "code",
   "execution_count": null,
   "metadata": {},
   "outputs": [],
   "source": [
    "X_df = pd.read_csv('trn_X.csv', index_col='Id')\n",
    "y_df = pd.read_csv('trn_y.csv', index_col='Id')\n",
    "\n",
    "X, y = torch.tensor(X_df.to_numpy(dtype=np.float32)), torch.tensor(y_df.to_numpy(dtype=np.float32))"
   ]
  },
  {
   "cell_type": "code",
   "execution_count": null,
   "metadata": {},
   "outputs": [],
   "source": [
    "model_kwargs = {\n",
    "  'input_dim': X.shape[-1],\n",
    "  'hidden_dim': 128,\n",
    "  'dropout': 0.3,\n",
    "}\n",
    "\n",
    "dl_kwargs = {\n",
    "  'batch_size': 36,\n",
    "  'shuffle': True,\n",
    "}\n",
    "\n",
    "optim_kwargs = {\n",
    "  'lr': 1.0,\n",
    "}\n",
    "\n",
    "device = 'cpu'\n",
    "\n",
    "cv = KFoldCV(X, y, ANN, model_kwargs=model_kwargs,\n",
    "            epochs=300,\n",
    "            criterion=F.mse_loss,\n",
    "            Optimizer=torch.optim.Adam,\n",
    "            optim_kwargs=optim_kwargs,\n",
    "            trn_dl_kwargs=dl_kwargs, val_dl_kwargs=dl_kwargs,\n",
    "            metric=torchmetrics.MeanSquaredError(squared=False).to(device),\n",
    "            device=device)\n"
   ]
  },
  {
   "cell_type": "code",
   "execution_count": null,
   "metadata": {},
   "outputs": [],
   "source": [
    "res = cv.run()\n",
    "res = pd.concat([res, res.apply(['mean', 'std'])])\n",
    "\n",
    "res"
   ]
  }
 ],
 "metadata": {
  "kernelspec": {
   "display_name": "pytorch",
   "language": "python",
   "name": "python3"
  },
  "language_info": {
   "codemirror_mode": {
    "name": "ipython",
    "version": 3
   },
   "file_extension": ".py",
   "mimetype": "text/x-python",
   "name": "python",
   "nbconvert_exporter": "python",
   "pygments_lexer": "ipython3",
   "version": "3.11.4"
  }
 },
 "nbformat": 4,
 "nbformat_minor": 2
}
