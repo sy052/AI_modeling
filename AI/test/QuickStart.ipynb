{
 "cells": [
  {
   "cell_type": "markdown",
   "metadata": {},
   "source": [
    "# Python Quickstart\n",
    "\n",
    "- 김병천 (wizardbc@gmail.com)\n",
    "- 2023년 10월 27일 (금)\n",
    "\n",
    "Tutorial from [programiz.com](https://www.programiz.com/python-programming/tutorial)"
   ]
  },
  {
   "cell_type": "code",
   "execution_count": null,
   "metadata": {},
   "outputs": [],
   "source": [
    "print(\"Hello, World!\")"
   ]
  },
  {
   "cell_type": "markdown",
   "metadata": {},
   "source": [
    "## Variables and Literals\n",
    "\n",
    "* `=` means assign.\n",
    "\n",
    "`a=5` means assign the numeric literal `5` to the variable `a`.\n",
    "\n",
    "`a=\"Five\"` means assign the string literal `\"Five\"` to the variable `a`."
   ]
  },
  {
   "cell_type": "code",
   "execution_count": null,
   "metadata": {},
   "outputs": [],
   "source": [
    "a = 5\n",
    "print(\"a =\", a)"
   ]
  },
  {
   "cell_type": "code",
   "execution_count": null,
   "metadata": {},
   "outputs": [],
   "source": [
    "a = \"Five\"\n",
    "print(\"a =\", a)"
   ]
  },
  {
   "cell_type": "markdown",
   "metadata": {},
   "source": [
    "## Operators"
   ]
  },
  {
   "cell_type": "code",
   "execution_count": null,
   "metadata": {},
   "outputs": [],
   "source": [
    "x = 14\n",
    "y = 4\n",
    "\n",
    "# Add two operands\n",
    "print('x + y =', x+y) # Output: x + y = 18\n",
    "\n",
    "# Subtract right operand from the left\n",
    "print('x - y =', x-y) # Output: x - y = 10\n",
    "\n",
    "# Multiply two operands\n",
    "print('x * y =', x*y) # Output: x * y = 56\n",
    "\n",
    "# Divide left operand by the right one \n",
    "print('x / y =', x/y) # Output: x / y = 3.5\n",
    "\n",
    "# Floor division (quotient) 몫\n",
    "print('x // y =', x//y) # Output: x // y = 3\n",
    "\n",
    "# Remainder of the division of left operand by the right\n",
    "print('x % y =', x%y) # Output: x % y = 2\n",
    "\n",
    "# Left operand raised to the power of right (x^y)\n",
    "print('x ** y =', x**y) # Output: x ** y = 38416"
   ]
  },
  {
   "cell_type": "code",
   "execution_count": null,
   "metadata": {},
   "outputs": [],
   "source": [
    "x = 5\n",
    "\n",
    "# x += 5 ----> x = x + 5\n",
    "x += 5\n",
    "print(x) # Output: 10\n",
    "\n",
    "# x /= 5 ----> x = x / 5\n",
    "x /= 5\n",
    "print(x) # Output: 2.0"
   ]
  },
  {
   "cell_type": "code",
   "execution_count": null,
   "metadata": {},
   "outputs": [],
   "source": [
    "x *= 5"
   ]
  },
  {
   "cell_type": "code",
   "execution_count": null,
   "metadata": {},
   "outputs": [],
   "source": [
    "x"
   ]
  },
  {
   "cell_type": "markdown",
   "metadata": {},
   "source": [
    "## Type Conversion"
   ]
  },
  {
   "cell_type": "markdown",
   "metadata": {},
   "source": [
    "### Implicit Type Conversion"
   ]
  },
  {
   "cell_type": "code",
   "execution_count": null,
   "metadata": {},
   "outputs": [],
   "source": [
    "num_int = 123  # integer type\n",
    "num_flo = 1.23 # float type\n",
    "\n",
    "num_new = num_int + num_flo\n",
    "\n",
    "print(\"Value of num_new:\",num_new)\n",
    "print(\"datatype of num_new:\",type(num_new))"
   ]
  },
  {
   "cell_type": "code",
   "execution_count": null,
   "metadata": {},
   "outputs": [],
   "source": [
    "num_int = 123     # int type\n",
    "num_str = \"456\"   # str type\n",
    "\n",
    "print(num_int+num_str)"
   ]
  },
  {
   "cell_type": "markdown",
   "metadata": {},
   "source": [
    "### Explicit Type Conversion"
   ]
  },
  {
   "cell_type": "code",
   "execution_count": null,
   "metadata": {},
   "outputs": [],
   "source": [
    "num_int = 123  # int type\n",
    "num_str = \"456\" # str type\n",
    "\n",
    "# explicitly converted to int type\n",
    "num_str = int(num_str) \n",
    "\n",
    "print(num_int+num_str)"
   ]
  },
  {
   "cell_type": "markdown",
   "metadata": {},
   "source": [
    "## Numeric Types"
   ]
  },
  {
   "cell_type": "code",
   "execution_count": null,
   "metadata": {},
   "outputs": [],
   "source": [
    "# Output: <class 'int'>\n",
    "print(type(5))\n",
    "\n",
    "# Output: <class 'float'>\n",
    "print(type(5.0))\n",
    "\n",
    "c = 5 + 3j\n",
    "\n",
    "# Output: <class 'complex'>\n",
    "print(type(c))\n",
    "\n",
    "# complex number i\n",
    "print(1j)"
   ]
  },
  {
   "cell_type": "markdown",
   "metadata": {},
   "source": [
    "### Boolean Types\n",
    "- `and` operation\n",
    "\n",
    "| and | T | F |\n",
    "|-----|---|---|\n",
    "| T   | T | F |\n",
    "| F   | F | F |\n",
    "- `or` operation\n",
    "\n",
    "| or | T | F |\n",
    "|-----|---|---|\n",
    "| T   | T | T |\n",
    "| F   | T | F |"
   ]
  },
  {
   "cell_type": "code",
   "execution_count": null,
   "metadata": {},
   "outputs": [],
   "source": [
    "print(type(True))\n",
    "\n",
    "print(True and True)  # True\n",
    "print(False and True) # False\n",
    "\n",
    "print(True or False)  # True"
   ]
  },
  {
   "cell_type": "markdown",
   "metadata": {},
   "source": [
    "## Data Structures"
   ]
  },
  {
   "cell_type": "markdown",
   "metadata": {},
   "source": [
    "### List"
   ]
  },
  {
   "cell_type": "code",
   "execution_count": null,
   "metadata": {},
   "outputs": [],
   "source": [
    "# empty list\n",
    "my_list = []\n",
    "my_list = list()\n",
    "\n",
    "# list of integers\n",
    "my_list = [1, 2, 3]\n",
    "\n",
    "# list with mixed data types\n",
    "my_list = [1, \"Hello\", 3.4]"
   ]
  },
  {
   "cell_type": "code",
   "execution_count": null,
   "metadata": {},
   "outputs": [],
   "source": [
    "language = [\"French\", \"German\", \"English\", \"Polish\"]"
   ]
  },
  {
   "cell_type": "code",
   "execution_count": null,
   "metadata": {},
   "outputs": [],
   "source": [
    "# Accessing first element\n",
    "print(language[0])"
   ]
  },
  {
   "cell_type": "code",
   "execution_count": null,
   "metadata": {},
   "outputs": [],
   "source": [
    "language[-1]"
   ]
  },
  {
   "cell_type": "code",
   "execution_count": null,
   "metadata": {},
   "outputs": [],
   "source": [
    "# Accessing fourth element\n",
    "print(language[3])\n",
    "\n",
    "# Accessing fourth element\n",
    "print(language[-1])\n",
    "\n",
    "# Get sub list (slice)\n",
    "print(language[1:3])"
   ]
  },
  {
   "cell_type": "code",
   "execution_count": null,
   "metadata": {},
   "outputs": [],
   "source": [
    "language[1:3] = ['Korean']\n",
    "print(language)"
   ]
  },
  {
   "cell_type": "markdown",
   "metadata": {},
   "source": [
    "### Tuples\n",
    "\n",
    "Basically, lists are mutable whereas tuples are immutable."
   ]
  },
  {
   "cell_type": "code",
   "execution_count": null,
   "metadata": {},
   "outputs": [],
   "source": [
    "language = (\"French\", \"German\", \"English\", \"Polish\")\n",
    "print(language)\n",
    "\n",
    "print(language[1]) #Output: German\n",
    "print(language[3]) #Output: Polish\n",
    "print(language[-1]) # Output: Polish"
   ]
  },
  {
   "cell_type": "code",
   "execution_count": null,
   "metadata": {},
   "outputs": [],
   "source": [
    "language[1:3] = ['Korean']\n",
    "print(language)"
   ]
  },
  {
   "cell_type": "markdown",
   "metadata": {},
   "source": [
    "### Strings"
   ]
  },
  {
   "cell_type": "code",
   "execution_count": null,
   "metadata": {},
   "outputs": [],
   "source": [
    "# all of the following are equivalent\n",
    "my_string = 'Hello'\n",
    "print(my_string)\n",
    "\n",
    "my_string = \"Hello\"\n",
    "print(my_string)\n",
    "\n",
    "my_string = '''Hello'''\n",
    "print(my_string)\n",
    "\n",
    "# triple quotes string can extend multiple lines\n",
    "my_string = \"\"\"Hello, welcome to\n",
    "           the world of Python\"\"\"\n",
    "print(my_string)"
   ]
  },
  {
   "cell_type": "code",
   "execution_count": null,
   "metadata": {},
   "outputs": [],
   "source": [
    "# Hello, \"World\"!!!\n",
    "print('Hello, \"World\"!!!')"
   ]
  },
  {
   "cell_type": "code",
   "execution_count": null,
   "metadata": {},
   "outputs": [],
   "source": [
    "str = 'Mathematics'\n",
    "print('str = ', str)\n",
    "\n",
    "print('str[0] = ', str[0]) # Output: M\n",
    "\n",
    "print('str[-1] = ', str[-1]) # Output: s\n",
    "\n",
    "# slicing 2nd to 5th character\n",
    "print('str[1:5] = ', str[1:5]) # Output: athe\n",
    "\n",
    "# slicing 6th to 2nd last character\n",
    "print('str[5:-2] = ', str[5:-2]) # Output: mati"
   ]
  },
  {
   "cell_type": "code",
   "execution_count": null,
   "metadata": {},
   "outputs": [],
   "source": [
    "str1 = 'Hello '\n",
    "str2 ='World!'\n",
    "\n",
    "# Output: Hello World!\n",
    "print(str1 + str2)\n",
    "\n",
    "# Hello Hello Hello\n",
    "print(str1 * 3)"
   ]
  },
  {
   "cell_type": "markdown",
   "metadata": {},
   "source": [
    "### Sets"
   ]
  },
  {
   "cell_type": "code",
   "execution_count": null,
   "metadata": {},
   "outputs": [],
   "source": [
    "my_set = set()\n",
    "\n",
    "# set of integers\n",
    "my_set = {1, 2, 3}\n",
    "print(my_set)\n",
    "\n",
    "# set of mixed datatypes\n",
    "my_set = {1.0, \"Hello\", (1, 2, 3)}\n",
    "print(my_set)"
   ]
  },
  {
   "cell_type": "code",
   "execution_count": null,
   "metadata": {},
   "outputs": [],
   "source": [
    "# set of integers\n",
    "my_set = {1, 2, 3}\n",
    "\n",
    "my_set.add(4)\n",
    "print(my_set) # Output: {1, 2, 3, 4}\n",
    "\n",
    "my_set.add(2)\n",
    "print(my_set) # Output: {1, 2, 3, 4}\n",
    "\n",
    "my_set.update([3, 4, 5])\n",
    "print(my_set) # Output: {1, 2, 3, 4, 5}\n",
    "\n",
    "my_set.remove(4)\n",
    "print(my_set) # Output: {1, 2, 3, 5}"
   ]
  },
  {
   "cell_type": "code",
   "execution_count": null,
   "metadata": {},
   "outputs": [],
   "source": [
    "A = {1, 2, 3}\n",
    "B = {2, 3, 4, 5}\n",
    "\n",
    "# Equivalent to A.union(B) \n",
    "# Also equivalent to B.union(A)\n",
    "print(A | B) # Output: {1, 2, 3, 4, 5}\n",
    "\n",
    "# Equivalent to A.intersection(B)\n",
    "# Also equivalent to B.intersection(A)\n",
    "print (A & B) # Output: {2, 3}\n",
    "\n",
    "# Set Difference\n",
    "print (A - B) # Output: {1}\n",
    "\n",
    "# Set Symmetric Difference\n",
    "print(A ^ B)  # Output: {1, 4, 5}"
   ]
  },
  {
   "cell_type": "markdown",
   "metadata": {},
   "source": [
    "## Dictionaries"
   ]
  },
  {
   "cell_type": "code",
   "execution_count": null,
   "metadata": {},
   "outputs": [],
   "source": [
    "# empty dictionary\n",
    "# my_dict = dict()\n",
    "my_dict = {}\n",
    "\n",
    "# dictionary with integer keys\n",
    "my_dict = {1: 'apple', 2: 'ball'}\n",
    "\n",
    "# dictionary with mixed keys\n",
    "my_dict = {'name': 'John', 1: [2, 4, 3]}"
   ]
  },
  {
   "cell_type": "code",
   "execution_count": null,
   "metadata": {},
   "outputs": [],
   "source": [
    "person = {'name':'Jack', 'age': 26}\n",
    "\n",
    "# Changing age to 36\n",
    "person['age'] = 36 \n",
    "print(person) # Output: {'name': 'Jack', 'age': 36}\n",
    "\n",
    "# Adding salary key, value pair\n",
    "person['salary'] = 4342.4\n",
    "print(person) # Output: {'name': 'Jack', 'age': 36, 'salary': 4342.4}\n",
    "\n",
    "\n",
    "# Deleting age\n",
    "del person['age']\n",
    "print(person) # Output: {'name': 'Jack', 'salary': 4342.4}\n",
    "\n",
    "# Deleting entire dictionary\n",
    "del person"
   ]
  },
  {
   "cell_type": "markdown",
   "metadata": {},
   "source": [
    "### Python `range()`"
   ]
  },
  {
   "cell_type": "code",
   "execution_count": null,
   "metadata": {},
   "outputs": [],
   "source": [
    "print(range(1, 10)) # Output: range(1, 10)"
   ]
  },
  {
   "cell_type": "code",
   "execution_count": null,
   "metadata": {},
   "outputs": [],
   "source": [
    "numbers = range(1, 6) # [1,6) = [1,5]\n",
    "\n",
    "print(list(numbers)) # Output: [1, 2, 3, 4, 5]\n",
    "print(tuple(numbers)) # Output: (1, 2, 3, 4, 5)\n",
    "print(set(numbers)) # Output: {1, 2, 3, 4, 5}"
   ]
  },
  {
   "cell_type": "code",
   "execution_count": null,
   "metadata": {},
   "outputs": [],
   "source": [
    "# Equivalent to: numbers = range(1, 6)\n",
    "numbers1 = range(1, 6 , 1)\n",
    "print(list(numbers1)) # Output: [1, 2, 3, 4, 5]\n",
    "\n",
    "numbers2 = range(1, 6, 2)\n",
    "print(list(numbers2)) # Output: [1, 3, 5]\n",
    "\n",
    "numbers3 = range(5, 0, -1)\n",
    "print(list(numbers3)) # Output: [5, 4, 3, 2, 1]"
   ]
  },
  {
   "cell_type": "markdown",
   "metadata": {},
   "source": [
    "## Control Flow"
   ]
  },
  {
   "cell_type": "markdown",
   "metadata": {},
   "source": [
    "### if...else Statement"
   ]
  },
  {
   "cell_type": "code",
   "execution_count": null,
   "metadata": {},
   "outputs": [],
   "source": [
    "num = 1\n",
    "\n",
    "if num > 0:\n",
    "  print(\"Positive number\")\n",
    "elif num == 0:\n",
    "  print(\"Zero\")\n",
    "else:\n",
    "  print(\"Negative number\")\n",
    "    \n",
    "# Output: Negative number"
   ]
  },
  {
   "cell_type": "code",
   "execution_count": null,
   "metadata": {},
   "outputs": [],
   "source": [
    "if False:\n",
    "  print(\"I am inside the body of if.\")\n",
    "  print(\"I am also inside the body of if.\")\n",
    "print(\"I am outside the body of if\")\n",
    "\n",
    "# Output: I am outside the body of if."
   ]
  },
  {
   "cell_type": "code",
   "execution_count": null,
   "metadata": {},
   "outputs": [],
   "source": [
    "bool([])"
   ]
  },
  {
   "cell_type": "code",
   "execution_count": null,
   "metadata": {},
   "outputs": [],
   "source": [
    "a = ''"
   ]
  },
  {
   "cell_type": "code",
   "execution_count": null,
   "metadata": {},
   "outputs": [],
   "source": [
    "if a:\n",
    "  print(a)\n",
    "else:\n",
    "  a += 'a'"
   ]
  },
  {
   "cell_type": "markdown",
   "metadata": {},
   "source": [
    "### while Loop"
   ]
  },
  {
   "cell_type": "code",
   "execution_count": null,
   "metadata": {},
   "outputs": [],
   "source": [
    "n = 100\n",
    "\n",
    "# initialize sum and counter\n",
    "sum = 0\n",
    "i = 1\n",
    "\n",
    "while i <= n:\n",
    "  sum += i\n",
    "  i += 1    # update counter\n",
    "\n",
    "print(\"The sum is\", sum)\n",
    "\n",
    "# Output: The sum is 5050"
   ]
  },
  {
   "cell_type": "markdown",
   "metadata": {},
   "source": [
    "### for Loop"
   ]
  },
  {
   "cell_type": "code",
   "execution_count": null,
   "metadata": {},
   "outputs": [],
   "source": [
    "numbers = [6, 5, 3, 8, 4, 2]\n",
    "\n",
    "sum = 0\n",
    "\n",
    "# iterate over the list\n",
    "for val in numbers:\n",
    "  sum += val\n",
    "\n",
    "print(\"The sum is\", sum) # Output: The sum is 28"
   ]
  },
  {
   "cell_type": "code",
   "execution_count": null,
   "metadata": {},
   "outputs": [],
   "source": [
    "for val in \"Mathematics\":\n",
    "    if val == \"f\":\n",
    "        break\n",
    "    print(val)\n",
    "else:\n",
    "  print(\"The end\")\n"
   ]
  },
  {
   "cell_type": "code",
   "execution_count": null,
   "metadata": {},
   "outputs": [],
   "source": [
    "for val in \"Mathematics\":\n",
    "    if val == \"e\":\n",
    "        continue\n",
    "    print(val)\n",
    "else:\n",
    "  print(\"The end\")"
   ]
  },
  {
   "cell_type": "code",
   "execution_count": null,
   "metadata": {},
   "outputs": [],
   "source": [
    "a = []\n",
    "\n",
    "if not a:\n",
    "  raise NotImplementedError\n",
    "else:\n",
    "  print(a)\n"
   ]
  },
  {
   "cell_type": "code",
   "execution_count": null,
   "metadata": {},
   "outputs": [],
   "source": [
    "# IndentationError: expected an indented block\n",
    "for val in \"Mathematics\":\n",
    "else:\n",
    "  print(\"The end\")"
   ]
  },
  {
   "cell_type": "code",
   "execution_count": null,
   "metadata": {},
   "outputs": [],
   "source": [
    "for val in \"Mathematics\":\n",
    "  pass\n",
    "else:\n",
    "  print(\"The end\")"
   ]
  },
  {
   "cell_type": "markdown",
   "metadata": {},
   "source": [
    "### Function"
   ]
  },
  {
   "cell_type": "code",
   "execution_count": null,
   "metadata": {},
   "outputs": [],
   "source": [
    "def print_lines():\n",
    "  print(\"I am line1.\")\n",
    "  print(\"I am line2.\")\n",
    "\n",
    "# function call\n",
    "print_lines()"
   ]
  },
  {
   "cell_type": "code",
   "execution_count": null,
   "metadata": {},
   "outputs": [],
   "source": [
    "def add_numbers(a, b):\n",
    "  sum = a + b\n",
    "  return sum\n",
    "\n",
    "result = add_numbers(4, 5)\n",
    "print(result)\n",
    "# Output: 9"
   ]
  },
  {
   "cell_type": "markdown",
   "metadata": {},
   "source": [
    "### Decorator\n",
    "- A Function that returns a (modified) function."
   ]
  },
  {
   "cell_type": "code",
   "execution_count": null,
   "metadata": {},
   "outputs": [],
   "source": [
    "def one_more(ftn):\n",
    "  def wrapper(a, b):\n",
    "    return ftn(a,b)+1\n",
    "  return wrapper\n",
    "\n",
    "one_more(add_numbers)(4, 5)"
   ]
  },
  {
   "cell_type": "code",
   "execution_count": null,
   "metadata": {},
   "outputs": [],
   "source": [
    "@one_more\n",
    "def add_numbers_one_more(a, b):\n",
    "  sum = a + b\n",
    "  return sum\n",
    "\n",
    "add_numbers_one_more(4,5)"
   ]
  },
  {
   "cell_type": "code",
   "execution_count": null,
   "metadata": {},
   "outputs": [],
   "source": [
    "def more(n):\n",
    "  def outer(ftn):\n",
    "    def inner(a,b):\n",
    "      return ftn(a,b)+n\n",
    "    return inner\n",
    "  return outer\n",
    "\n",
    "more(10)(add_numbers)(4,5)"
   ]
  },
  {
   "cell_type": "code",
   "execution_count": null,
   "metadata": {},
   "outputs": [],
   "source": [
    "@more(10)\n",
    "def add_numbers_ten_more(a,b):\n",
    "  return a + b\n",
    "\n",
    "add_numbers_ten_more(4,5)"
   ]
  },
  {
   "cell_type": "markdown",
   "metadata": {},
   "source": [
    "### Lambda Function"
   ]
  },
  {
   "cell_type": "code",
   "execution_count": null,
   "metadata": {},
   "outputs": [],
   "source": [
    "def square(x):\n",
    "  return x**2\n",
    "print(square(5))"
   ]
  },
  {
   "cell_type": "code",
   "execution_count": null,
   "metadata": {},
   "outputs": [],
   "source": [
    "square = lambda x: x ** 2\n",
    "print(square(5))\n",
    "\n",
    "# Output: 25"
   ]
  },
  {
   "cell_type": "code",
   "execution_count": null,
   "metadata": {},
   "outputs": [],
   "source": [
    "numbers = [6, 5, 3, 8, 4, 2]\n",
    "numbers2 = map(lambda x: x ** 2, numbers)"
   ]
  },
  {
   "cell_type": "code",
   "execution_count": null,
   "metadata": {},
   "outputs": [],
   "source": [
    "list(numbers2)"
   ]
  },
  {
   "cell_type": "code",
   "execution_count": null,
   "metadata": {},
   "outputs": [],
   "source": [
    "numbers_lt_5 = filter(lambda x: x<5, numbers)\n",
    "print(list(numbers_lt_5))"
   ]
  },
  {
   "cell_type": "code",
   "execution_count": null,
   "metadata": {},
   "outputs": [],
   "source": [
    "res = []\n",
    "for i in numbers:\n",
    "  if i < 5:\n",
    "    res.append(i)\n",
    "res"
   ]
  },
  {
   "cell_type": "markdown",
   "metadata": {},
   "source": [
    "### Generators"
   ]
  },
  {
   "cell_type": "code",
   "execution_count": null,
   "metadata": {},
   "outputs": [],
   "source": [
    "# A simple generator function\n",
    "def my_gen():\n",
    "  n = 1\n",
    "  print('This is printed first')\n",
    "  # Generator function contains yield statements\n",
    "  yield n\n",
    "\n",
    "  n += 1\n",
    "  print('This is printed second')\n",
    "  yield n\n",
    "\n",
    "  n += 1\n",
    "  print('This is printed at last')\n",
    "  yield n"
   ]
  },
  {
   "cell_type": "code",
   "execution_count": null,
   "metadata": {},
   "outputs": [],
   "source": [
    "# It returns an object but does not start execution immediately.\n",
    "a = my_gen()"
   ]
  },
  {
   "cell_type": "code",
   "execution_count": null,
   "metadata": {},
   "outputs": [],
   "source": [
    "a"
   ]
  },
  {
   "cell_type": "code",
   "execution_count": null,
   "metadata": {},
   "outputs": [],
   "source": [
    "# We can iterate through the items using next().\n",
    "print(next(a))  # 1"
   ]
  },
  {
   "cell_type": "code",
   "execution_count": null,
   "metadata": {},
   "outputs": [],
   "source": [
    "# Once the function yields, the function is paused and the control is transferred to the caller.\n",
    "# Local variables and theirs states are remembered between successive calls.\n",
    "print(next(a)) # 2\n",
    "\n",
    "print(next(a)) # 3"
   ]
  },
  {
   "cell_type": "code",
   "execution_count": null,
   "metadata": {},
   "outputs": [],
   "source": [
    "# Finally, when the function terminates, StopIteration is raised automatically on further calls.\n",
    "print(next(a))"
   ]
  },
  {
   "cell_type": "code",
   "execution_count": null,
   "metadata": {},
   "outputs": [],
   "source": [
    "# Using for loop\n",
    "for item in my_gen():\n",
    "  print(item)\n",
    "  break\n",
    "else:\n",
    "  print(\"End\")"
   ]
  },
  {
   "cell_type": "code",
   "execution_count": null,
   "metadata": {},
   "outputs": [],
   "source": [
    "def bad_generator():\n",
    "  while True:\n",
    "    yield 1\n",
    "\n",
    "# for i in bad_generator():\n",
    "#   print(i)"
   ]
  },
  {
   "cell_type": "markdown",
   "metadata": {},
   "source": [
    "## Comprehension"
   ]
  },
  {
   "cell_type": "code",
   "execution_count": null,
   "metadata": {},
   "outputs": [],
   "source": [
    "# list comprehension\n",
    "numbers = [6, 5, 3, 8, 4, 2]\n",
    "print([x**2 for x in numbers])"
   ]
  },
  {
   "cell_type": "code",
   "execution_count": null,
   "metadata": {},
   "outputs": [],
   "source": [
    "# generator expression\n",
    "numbers = [6, 5, 3, 8, 4, 2]\n",
    "print((x**2 for x in numbers))"
   ]
  },
  {
   "cell_type": "code",
   "execution_count": null,
   "metadata": {},
   "outputs": [],
   "source": [
    "for i in (x**2 for x in numbers):\n",
    "  print(i)"
   ]
  }
 ],
 "metadata": {
  "kernelspec": {
   "display_name": "MathAI",
   "language": "python",
   "name": "python3"
  },
  "language_info": {
   "codemirror_mode": {
    "name": "ipython",
    "version": 3
   },
   "file_extension": ".py",
   "mimetype": "text/x-python",
   "name": "python",
   "nbconvert_exporter": "python",
   "pygments_lexer": "ipython3",
   "version": "3.10.13"
  }
 },
 "nbformat": 4,
 "nbformat_minor": 2
}
