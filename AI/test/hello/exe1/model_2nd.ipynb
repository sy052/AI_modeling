{
 "cells": [
  {
   "cell_type": "code",
   "execution_count": null,
   "metadata": {},
   "outputs": [],
   "source": [
    "class Module:\n",
    "  def __init__(self) -> None:\n",
    "    raise NotImplementedError\n",
    "  #사용안할경우 에러 발생\n",
    "\n",
    "  def set_params(self) -> None:\n",
    "    raise NotImplementedError\n",
    "  \n",
    "  def get_params(self) -> dict:\n",
    "    raise NotImplementedError\n",
    "  \n",
    "  def forward(self, x:np.array) -> np.array:\n",
    "    raise NotImplementedError\n",
    "  #자식클래스에서 모두 다뤄야하는 4개\n",
    "  def __call__(self, x:np.array) -> np.array:\n",
    "    return self.forward(x)"
   ]
  },
  {
   "cell_type": "code",
   "execution_count": null,
   "metadata": {},
   "outputs": [],
   "source": [
    "class LinearModel(Module):\n",
    "  #부모클래스:module\n",
    "  def __init__(self, w:float=.0, b:float=.0) -> None:\n",
    "    self.set_params(w, b)\n",
    "\n",
    "  def set_params(self, w:float, b:float) -> None:\n",
    "    self.w = w\n",
    "    self.b = b\n",
    "\n",
    "  def get_params(self) -> dict[str,float]:\n",
    "    return {'w': self.w, 'b':self.b}\n",
    "\n",
    "  def forward(self, x:np.array) -> np.array:\n",
    "    #부모클래스의 콜에서 부름\n",
    "    params = self.get_params()\n",
    "    w = params.get('w')\n",
    "    b = params.get('b')\n",
    "    return w * x + b"
   ]
  },
  {
   "cell_type": "code",
   "execution_count": null,
   "metadata": {},
   "outputs": [],
   "source": [
    "def mse(y_hat:np.array, y_true:np.array) -> float:\n",
    "  assert len(y_hat) == len(y_true)\n",
    "  return ((y_hat - y_true)**2).mean()"
   ]
  },
  {
   "cell_type": "code",
   "execution_count": null,
   "metadata": {},
   "outputs": [],
   "source": [
    "lin = LinearModel(2,1)"
   ]
  },
  {
   "cell_type": "code",
   "execution_count": null,
   "metadata": {},
   "outputs": [],
   "source": [
    "mse(lin(xs), ys)"
   ]
  }
 ],
 "metadata": {
  "kernelspec": {
   "display_name": "MathAI",
   "language": "python",
   "name": "python3"
  },
  "language_info": {
   "name": "python",
   "version": "3.10.13"
  },
  "orig_nbformat": 4
 },
 "nbformat": 4,
 "nbformat_minor": 2
}
