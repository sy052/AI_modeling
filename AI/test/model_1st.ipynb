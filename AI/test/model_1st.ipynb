{
 "cells": [
  {
   "cell_type": "code",
   "execution_count": 31,
   "metadata": {},
   "outputs": [],
   "source": [
    "import numpy as np"
   ]
  },
  {
   "cell_type": "code",
   "execution_count": null,
   "metadata": {},
   "outputs": [],
   "source": []
  },
  {
   "cell_type": "markdown",
   "metadata": {},
   "source": [
    "## Data"
   ]
  },
  {
   "cell_type": "code",
   "execution_count": 32,
   "metadata": {},
   "outputs": [],
   "source": [
    "x = np.linspace(0, 1, 100)\n",
    "y = 2 * x + 1 # hidden"
   ]
  },
  {
   "cell_type": "code",
   "execution_count": 33,
   "metadata": {},
   "outputs": [
    {
     "data": {
      "text/plain": [
       "array([0.        , 0.01010101, 0.02020202, 0.03030303, 0.04040404,\n",
       "       0.05050505, 0.06060606, 0.07070707, 0.08080808, 0.09090909,\n",
       "       0.1010101 , 0.11111111, 0.12121212, 0.13131313, 0.14141414,\n",
       "       0.15151515, 0.16161616, 0.17171717, 0.18181818, 0.19191919,\n",
       "       0.2020202 , 0.21212121, 0.22222222, 0.23232323, 0.24242424,\n",
       "       0.25252525, 0.26262626, 0.27272727, 0.28282828, 0.29292929,\n",
       "       0.3030303 , 0.31313131, 0.32323232, 0.33333333, 0.34343434,\n",
       "       0.35353535, 0.36363636, 0.37373737, 0.38383838, 0.39393939,\n",
       "       0.4040404 , 0.41414141, 0.42424242, 0.43434343, 0.44444444,\n",
       "       0.45454545, 0.46464646, 0.47474747, 0.48484848, 0.49494949,\n",
       "       0.50505051, 0.51515152, 0.52525253, 0.53535354, 0.54545455,\n",
       "       0.55555556, 0.56565657, 0.57575758, 0.58585859, 0.5959596 ,\n",
       "       0.60606061, 0.61616162, 0.62626263, 0.63636364, 0.64646465,\n",
       "       0.65656566, 0.66666667, 0.67676768, 0.68686869, 0.6969697 ,\n",
       "       0.70707071, 0.71717172, 0.72727273, 0.73737374, 0.74747475,\n",
       "       0.75757576, 0.76767677, 0.77777778, 0.78787879, 0.7979798 ,\n",
       "       0.80808081, 0.81818182, 0.82828283, 0.83838384, 0.84848485,\n",
       "       0.85858586, 0.86868687, 0.87878788, 0.88888889, 0.8989899 ,\n",
       "       0.90909091, 0.91919192, 0.92929293, 0.93939394, 0.94949495,\n",
       "       0.95959596, 0.96969697, 0.97979798, 0.98989899, 1.        ])"
      ]
     },
     "execution_count": 33,
     "metadata": {},
     "output_type": "execute_result"
    }
   ],
   "source": [
    "x"
   ]
  },
  {
   "cell_type": "code",
   "execution_count": 34,
   "metadata": {},
   "outputs": [
    {
     "data": {
      "text/plain": [
       "array([1.        , 1.02020202, 1.04040404, 1.06060606, 1.08080808,\n",
       "       1.1010101 , 1.12121212, 1.14141414, 1.16161616, 1.18181818,\n",
       "       1.2020202 , 1.22222222, 1.24242424, 1.26262626, 1.28282828,\n",
       "       1.3030303 , 1.32323232, 1.34343434, 1.36363636, 1.38383838,\n",
       "       1.4040404 , 1.42424242, 1.44444444, 1.46464646, 1.48484848,\n",
       "       1.50505051, 1.52525253, 1.54545455, 1.56565657, 1.58585859,\n",
       "       1.60606061, 1.62626263, 1.64646465, 1.66666667, 1.68686869,\n",
       "       1.70707071, 1.72727273, 1.74747475, 1.76767677, 1.78787879,\n",
       "       1.80808081, 1.82828283, 1.84848485, 1.86868687, 1.88888889,\n",
       "       1.90909091, 1.92929293, 1.94949495, 1.96969697, 1.98989899,\n",
       "       2.01010101, 2.03030303, 2.05050505, 2.07070707, 2.09090909,\n",
       "       2.11111111, 2.13131313, 2.15151515, 2.17171717, 2.19191919,\n",
       "       2.21212121, 2.23232323, 2.25252525, 2.27272727, 2.29292929,\n",
       "       2.31313131, 2.33333333, 2.35353535, 2.37373737, 2.39393939,\n",
       "       2.41414141, 2.43434343, 2.45454545, 2.47474747, 2.49494949,\n",
       "       2.51515152, 2.53535354, 2.55555556, 2.57575758, 2.5959596 ,\n",
       "       2.61616162, 2.63636364, 2.65656566, 2.67676768, 2.6969697 ,\n",
       "       2.71717172, 2.73737374, 2.75757576, 2.77777778, 2.7979798 ,\n",
       "       2.81818182, 2.83838384, 2.85858586, 2.87878788, 2.8989899 ,\n",
       "       2.91919192, 2.93939394, 2.95959596, 2.97979798, 3.        ])"
      ]
     },
     "execution_count": 34,
     "metadata": {},
     "output_type": "execute_result"
    }
   ],
   "source": [
    "y"
   ]
  },
  {
   "cell_type": "markdown",
   "metadata": {},
   "source": [
    "## EDA (Exploratory Data Analysis)\n",
    "탐색적 데이터 분석\n",
    "\n",
    "아래 도구들을 사용하여 어떤 모델을 사용할지 결정\n",
    "- 시각화\n",
    "- 차원축소\n",
    "- 군집화\n",
    "- 가볍고 단순한 모델\n",
    "\n",
    "\n",
    "```bash\n",
    "conda activate MathAI\n",
    "#MathAI 실행 후 matplotlib install 수행해야 함\n",
    "pip install matplotlib\n",
    "```"
   ]
  },
  {
   "cell_type": "code",
   "execution_count": 35,
   "metadata": {},
   "outputs": [],
   "source": [
    "import matplotlib.pyplot as plt\n",
    "#scatter 함수 호출해서 그래프로 그려지는 라이브러리"
   ]
  },
  {
   "cell_type": "code",
   "execution_count": 36,
   "metadata": {},
   "outputs": [
    {
     "data": {
      "text/plain": [
       "<matplotlib.collections.PathCollection at 0x7f158862a350>"
      ]
     },
     "execution_count": 36,
     "metadata": {},
     "output_type": "execute_result"
    },
    {
     "data": {
      "image/png": "[encoded data removed]",
      "text/plain": [
       "<Figure size 640x480 with 1 Axes>"
      ]
     },
     "metadata": {},
     "output_type": "display_data"
    }
   ],
   "source": [
    "plt.scatter(x, y, s=0.5)"
   ]
  },
  {
   "cell_type": "markdown",
   "metadata": {},
   "source": [
    "## Model Selection\n",
    "\n",
    "- Linear ($y = ax + b$)"
   ]
  },
  {
   "cell_type": "code",
   "execution_count": 37,
   "metadata": {},
   "outputs": [],
   "source": [
    "class Linear():\n",
    "  def __init__(self, a:float=0., b:float=0.):\n",
    "    self.a = a\n",
    "    self.b = b\n",
    "\n",
    "  def forward(self, x:np.array):\n",
    "    return self.a*x + self.b\n",
    "\n",
    "  __call__ = forward\n"
   ]
  },
  {
   "cell_type": "code",
   "execution_count": 38,
   "metadata": {},
   "outputs": [
    {
     "name": "stdout",
     "output_type": "stream",
     "text": [
      "0.0 0.0\n"
     ]
    }
   ],
   "source": [
    "lin = Linear()\n",
    "print(lin.a, lin.b)"
   ]
  },
  {
   "cell_type": "code",
   "execution_count": 39,
   "metadata": {},
   "outputs": [
    {
     "data": {
      "text/plain": [
       "0.0"
      ]
     },
     "execution_count": 39,
     "metadata": {},
     "output_type": "execute_result"
    }
   ],
   "source": [
    "lin.forward(1.0)"
   ]
  },
  {
   "cell_type": "code",
   "execution_count": 40,
   "metadata": {},
   "outputs": [
    {
     "data": {
      "text/plain": [
       "0.0"
      ]
     },
     "execution_count": 40,
     "metadata": {},
     "output_type": "execute_result"
    }
   ],
   "source": [
    "lin(1.0)"
   ]
  },
  {
   "cell_type": "code",
   "execution_count": 41,
   "metadata": {},
   "outputs": [
    {
     "data": {
      "text/plain": [
       "array([0., 0., 0., 0., 0., 0., 0., 0., 0., 0., 0., 0., 0., 0., 0., 0., 0.,\n",
       "       0., 0., 0., 0., 0., 0., 0., 0., 0., 0., 0., 0., 0., 0., 0., 0., 0.,\n",
       "       0., 0., 0., 0., 0., 0., 0., 0., 0., 0., 0., 0., 0., 0., 0., 0., 0.,\n",
       "       0., 0., 0., 0., 0., 0., 0., 0., 0., 0., 0., 0., 0., 0., 0., 0., 0.,\n",
       "       0., 0., 0., 0., 0., 0., 0., 0., 0., 0., 0., 0., 0., 0., 0., 0., 0.,\n",
       "       0., 0., 0., 0., 0., 0., 0., 0., 0., 0., 0., 0., 0., 0., 0.])"
      ]
     },
     "execution_count": 41,
     "metadata": {},
     "output_type": "execute_result"
    }
   ],
   "source": [
    "lin(x)"
   ]
  },
  {
   "cell_type": "code",
   "execution_count": 42,
   "metadata": {},
   "outputs": [],
   "source": [
    "lin.a, lin.b = 1.5, 1.0"
   ]
  },
  {
   "cell_type": "code",
   "execution_count": 43,
   "metadata": {},
   "outputs": [
    {
     "name": "stdout",
     "output_type": "stream",
     "text": [
      "1.5 1.0\n"
     ]
    },
    {
     "data": {
      "text/plain": [
       "<matplotlib.collections.PathCollection at 0x7f15886b4fd0>"
      ]
     },
     "execution_count": 43,
     "metadata": {},
     "output_type": "execute_result"
    },
    {
     "data": {
      "image/png": "[encoded data removed]",
      "text/plain": [
       "<Figure size 640x480 with 1 Axes>"
      ]
     },
     "metadata": {},
     "output_type": "display_data"
    }
   ],
   "source": [
    "print(lin.a, lin.b)\n",
    "plt.scatter(x, lin(x), s=1)"
   ]
  },
  {
   "cell_type": "code",
   "execution_count": 44,
   "metadata": {},
   "outputs": [
    {
     "data": {
      "text/plain": [
       "array([1.        , 1.01515152, 1.03030303, 1.04545455, 1.06060606,\n",
       "       1.07575758, 1.09090909, 1.10606061, 1.12121212, 1.13636364,\n",
       "       1.15151515, 1.16666667, 1.18181818, 1.1969697 , 1.21212121,\n",
       "       1.22727273, 1.24242424, 1.25757576, 1.27272727, 1.28787879,\n",
       "       1.3030303 , 1.31818182, 1.33333333, 1.34848485, 1.36363636,\n",
       "       1.37878788, 1.39393939, 1.40909091, 1.42424242, 1.43939394,\n",
       "       1.45454545, 1.46969697, 1.48484848, 1.5       , 1.51515152,\n",
       "       1.53030303, 1.54545455, 1.56060606, 1.57575758, 1.59090909,\n",
       "       1.60606061, 1.62121212, 1.63636364, 1.65151515, 1.66666667,\n",
       "       1.68181818, 1.6969697 , 1.71212121, 1.72727273, 1.74242424,\n",
       "       1.75757576, 1.77272727, 1.78787879, 1.8030303 , 1.81818182,\n",
       "       1.83333333, 1.84848485, 1.86363636, 1.87878788, 1.89393939,\n",
       "       1.90909091, 1.92424242, 1.93939394, 1.95454545, 1.96969697,\n",
       "       1.98484848, 2.        , 2.01515152, 2.03030303, 2.04545455,\n",
       "       2.06060606, 2.07575758, 2.09090909, 2.10606061, 2.12121212,\n",
       "       2.13636364, 2.15151515, 2.16666667, 2.18181818, 2.1969697 ,\n",
       "       2.21212121, 2.22727273, 2.24242424, 2.25757576, 2.27272727,\n",
       "       2.28787879, 2.3030303 , 2.31818182, 2.33333333, 2.34848485,\n",
       "       2.36363636, 2.37878788, 2.39393939, 2.40909091, 2.42424242,\n",
       "       2.43939394, 2.45454545, 2.46969697, 2.48484848, 2.5       ])"
      ]
     },
     "execution_count": 44,
     "metadata": {},
     "output_type": "execute_result"
    }
   ],
   "source": [
    "lin(x)"
   ]
  },
  {
   "cell_type": "markdown",
   "metadata": {},
   "source": [
    "## Evaluation\n",
    "### Mean Squared Error (MSE)\n",
    ": 평균 제곱 오차=오차의 평균 구함 (mean=평균 구하는 것)\n",
    "\n",
    "- $f$: the original function\n",
    "- $x = \\{x_1, x_2, \\ldots, x_n\\}$\n",
    "- $y = \\{y_1, y_2, \\ldots, y_n\\} = \\{f(x_1), f(x_2), \\ldots, f(x_n)\\}$\n",
    "- $\\hat{y} = \\{\\hat y_1, \\hat y_2, \\ldots, \\hat y_n\\}$: predicted value\n",
    "\n",
    "$$\\operatorname{MSE}(\\hat y, y) = \\frac{1}{n}\\sum_{i=1}^n (\\hat y_i - y_i)^2 = \\frac{1}{n}\\sum_{i=1}^n (\\hat y_i - f(x_i))^2$$"
   ]
  },
  {
   "cell_type": "code",
   "execution_count": 45,
   "metadata": {},
   "outputs": [
    {
     "data": {
      "text/plain": [
       "0.08375420875420878"
      ]
     },
     "execution_count": 45,
     "metadata": {},
     "output_type": "execute_result"
    }
   ],
   "source": [
    "((lin(x) - y)**2).mean()"
   ]
  },
  {
   "cell_type": "code",
   "execution_count": 46,
   "metadata": {},
   "outputs": [],
   "source": [
    "mse = lambda y_hat, y: ((y_hat - y)**2).mean()"
   ]
  },
  {
   "cell_type": "code",
   "execution_count": 47,
   "metadata": {},
   "outputs": [
    {
     "data": {
      "text/plain": [
       "0.08375420875420878"
      ]
     },
     "execution_count": 47,
     "metadata": {},
     "output_type": "execute_result"
    }
   ],
   "source": [
    "mse(lin(x), y)"
   ]
  },
  {
   "cell_type": "code",
   "execution_count": 48,
   "metadata": {},
   "outputs": [],
   "source": [
    "mean_abs_err = lambda y_hat, y: np.abs(y_hat - y).mean()"
   ]
  },
  {
   "cell_type": "code",
   "execution_count": 49,
   "metadata": {},
   "outputs": [
    {
     "data": {
      "text/plain": [
       "0.25"
      ]
     },
     "execution_count": 49,
     "metadata": {},
     "output_type": "execute_result"
    }
   ],
   "source": [
    "mean_abs_err(lin(x), y)"
   ]
  },
  {
   "cell_type": "code",
   "execution_count": 50,
   "metadata": {},
   "outputs": [
    {
     "data": {
      "text/plain": [
       "1.0333333333333334"
      ]
     },
     "execution_count": 50,
     "metadata": {},
     "output_type": "execute_result"
    }
   ],
   "source": [
    "aa=np.array([0.5, 1.0, 1.6])\n",
    "aa.mean()"
   ]
  },
  {
   "cell_type": "code",
   "execution_count": 51,
   "metadata": {},
   "outputs": [
    {
     "name": "stdout",
     "output_type": "stream",
     "text": [
      "f(X) =  1.5 x +  1.0\n"
     ]
    },
    {
     "data": {
      "text/plain": [
       "0.08375420875420878"
      ]
     },
     "execution_count": 51,
     "metadata": {},
     "output_type": "execute_result"
    },
    {
     "data": {
      "image/png": "[encoded data removed]",
      "text/plain": [
       "<Figure size 640x480 with 1 Axes>"
      ]
     },
     "metadata": {},
     "output_type": "display_data"
    }
   ],
   "source": [
    "print(\"f(X) = \",lin.a,\"x + \",lin.b)\n",
    "plt.scatter(x, lin(x), s=1)\n",
    "((lin(x) - y)**2).mean()"
   ]
  },
  {
   "cell_type": "markdown",
   "metadata": {},
   "source": [
    "## Fitting"
   ]
  },
  {
   "cell_type": "code",
   "execution_count": 52,
   "metadata": {},
   "outputs": [
    {
     "data": {
      "text/plain": [
       "0.0"
      ]
     },
     "execution_count": 52,
     "metadata": {},
     "output_type": "execute_result"
    }
   ],
   "source": [
    "lin.a, lin.b = 2.0, 1.0\n",
    "mse(lin(x), y)"
   ]
  },
  {
   "cell_type": "markdown",
   "metadata": {},
   "source": [
    "# Exercise"
   ]
  },
  {
   "cell_type": "markdown",
   "metadata": {},
   "source": [
    "Your data:\n",
    "\n",
    "[(0.0, 11.08022399255122),\n",
    " (0.01, 11.570092731834594),\n",
    " (0.02, 11.079559558099088),\n",
    " (0.03, 10.563573538650443),\n",
    " (0.04, 11.091182585125246),\n",
    " (0.05, 10.317713512793654),\n",
    " (0.06, 10.806006550643021),\n",
    " (0.07, 11.180106640155758),\n",
    " (0.08, 10.437733872100907),\n",
    " (0.09, 10.594805066971098),\n",
    " (0.1, 10.616453584246596),\n",
    " (0.11, 10.370907765068917),\n",
    " (0.12, 10.022574519278814),\n",
    " (0.13, 10.538029561575165),\n",
    " (0.14, 10.103898076199888),\n",
    " (0.15, 10.114072996594603),\n",
    " (0.16, 10.418881404843672),\n",
    " (0.17, 10.32200441522535),\n",
    " (0.18, 9.804241725470177),\n",
    " (0.19, 9.78419868704467),\n",
    " (0.2, 9.495241351861024),\n",
    " (0.21, 9.850993913870676),\n",
    " (0.22, 9.674549136491885),\n",
    " (0.23, 10.263900932208593),\n",
    " (0.24, 9.681871150441589),\n",
    " (0.25, 9.493419017191497),\n",
    " (0.26, 9.822356643455535),\n",
    " (0.27, 9.562027654308764),\n",
    " (0.28, 9.360180274460395),\n",
    " (0.29, 9.602596538081494),\n",
    " (0.3, 9.340923765859758),\n",
    " (0.31, 8.64525346119072),\n",
    " (0.32, 9.796874563841873),\n",
    " (0.33, 9.319933402908577),\n",
    " (0.34, 8.823281442039217),\n",
    " (0.35000000000000003, 8.642825237457606),\n",
    " (0.36, 9.02490777482422),\n",
    " (0.37, 9.019047366642312),\n",
    " (0.38, 8.90933549751441),\n",
    " (0.39, 8.494988823912895),\n",
    " (0.4, 8.65546619735125),\n",
    " (0.41000000000000003, 8.117225255354255),\n",
    " (0.42, 8.882806967549357),\n",
    " (0.43, 8.994335918673245),\n",
    " (0.44, 8.43757369996032),\n",
    " (0.45, 8.850177725679767),\n",
    " (0.46, 7.869130266148357),\n",
    " (0.47000000000000003, 7.486583299975572),\n",
    " (0.48, 7.756968375598211),\n",
    " (0.49, 8.314963344758969),\n",
    " (0.5, 7.990454753175446),\n",
    " (0.51, 8.30821655559924),\n",
    " (0.52, 8.516522346862178),\n",
    " (0.53, 8.103788658682133),\n",
    " (0.54, 7.973375099354579),\n",
    " (0.55, 7.860591716036661),\n",
    " (0.56, 8.218158435270892),\n",
    " (0.5700000000000001, 8.534509013591963),\n",
    " (0.58, 8.25997992048143),\n",
    " (0.59, 8.170432485389956),\n",
    " (0.6, 7.768573439195891),\n",
    " (0.61, 7.44362327417543),\n",
    " (0.62, 7.569031501127141),\n",
    " (0.63, 7.4512051381612405),\n",
    " (0.64, 8.01811393576676),\n",
    " (0.65, 6.741276830232602),\n",
    " (0.66, 7.334898756488971),\n",
    " (0.67, 7.396600135048754),\n",
    " (0.68, 8.075934217144747),\n",
    " (0.6900000000000001, 7.874219606652527),\n",
    " (0.7000000000000001, 7.602666091129635),\n",
    " (0.71, 7.024236004318913),\n",
    " (0.72, 7.026793144525206),\n",
    " (0.73, 7.330620503296837),\n",
    " (0.74, 6.863326611450557),\n",
    " (0.75, 6.984939293807172),\n",
    " (0.76, 7.182691403171268),\n",
    " (0.77, 7.131759646566596),\n",
    " (0.78, 7.537408256978725),\n",
    " (0.79, 6.635656975668693),\n",
    " (0.8, 6.7720695566627995),\n",
    " (0.81, 7.244800483017431),\n",
    " (0.8200000000000001, 6.937382712786401),\n",
    " (0.8300000000000001, 6.293724174846915),\n",
    " (0.84, 6.907917747870125),\n",
    " (0.85, 6.7815384013992706),\n",
    " (0.86, 6.618628927964743),\n",
    " (0.87, 5.995433289263288),\n",
    " (0.88, 5.895260050695458),\n",
    " (0.89, 6.521358309374917),\n",
    " (0.9, 6.139062995129351),\n",
    " (0.91, 6.777790313554485),\n",
    " (0.92, 6.77711868659065),\n",
    " (0.93, 6.469856020964454),\n",
    " (0.9400000000000001, 6.4567068665727625),\n",
    " (0.9500000000000001, 6.564428974576571),\n",
    " (0.96, 6.075941872064008),\n",
    " (0.97, 5.800790923972148),\n",
    " (0.98, 6.984921098922802),\n",
    " (0.99, 5.449852795385393),\n",
    " (1.0, 6.385259145438313)]"
   ]
  },
  {
   "cell_type": "code",
   "execution_count": 53,
   "metadata": {},
   "outputs": [],
   "source": [
    "x = np.array(eval(\"\"\"[0.  , 0.01, 0.02, 0.03, 0.04, 0.05, 0.06, 0.07, 0.08, 0.09, 0.1 ,\n",
    "       0.11, 0.12, 0.13, 0.14, 0.15, 0.16, 0.17, 0.18, 0.19, 0.2 , 0.21,\n",
    "       0.22, 0.23, 0.24, 0.25, 0.26, 0.27, 0.28, 0.29, 0.3 , 0.31, 0.32,\n",
    "       0.33, 0.34, 0.35, 0.36, 0.37, 0.38, 0.39, 0.4 , 0.41, 0.42, 0.43,\n",
    "       0.44, 0.45, 0.46, 0.47, 0.48, 0.49, 0.5 , 0.51, 0.52, 0.53, 0.54,\n",
    "       0.55, 0.56, 0.57, 0.58, 0.59, 0.6 , 0.61, 0.62, 0.63, 0.64, 0.65,\n",
    "       0.66, 0.67, 0.68, 0.69, 0.7 , 0.71, 0.72, 0.73, 0.74, 0.75, 0.76,\n",
    "       0.77, 0.78, 0.79, 0.8 , 0.81, 0.82, 0.83, 0.84, 0.85, 0.86, 0.87,\n",
    "       0.88, 0.89, 0.9 , 0.91, 0.92, 0.93, 0.94, 0.95, 0.96, 0.97, 0.98,\n",
    "       0.99, 1.  ]\"\"\"))"
   ]
  },
  {
   "cell_type": "code",
   "execution_count": 54,
   "metadata": {},
   "outputs": [],
   "source": [
    "y = np.array(eval(\"\"\"[11.08022399, 11.57009273, 11.07955956, 10.56357354, 11.09118259,\n",
    "       10.31771351, 10.80600655, 11.18010664, 10.43773387, 10.59480507,\n",
    "       10.61645358, 10.37090777, 10.02257452, 10.53802956, 10.10389808,\n",
    "       10.114073  , 10.4188814 , 10.32200442,  9.80424173,  9.78419869,\n",
    "        9.49524135,  9.85099391,  9.67454914, 10.26390093,  9.68187115,\n",
    "        9.49341902,  9.82235664,  9.56202765,  9.36018027,  9.60259654,\n",
    "        9.34092377,  8.64525346,  9.79687456,  9.3199334 ,  8.82328144,\n",
    "        8.64282524,  9.02490777,  9.01904737,  8.9093355 ,  8.49498882,\n",
    "        8.6554662 ,  8.11722526,  8.88280697,  8.99433592,  8.4375737 ,\n",
    "        8.85017773,  7.86913027,  7.4865833 ,  7.75696838,  8.31496334,\n",
    "        7.99045475,  8.30821656,  8.51652235,  8.10378866,  7.9733751 ,\n",
    "        7.86059172,  8.21815844,  8.53450901,  8.25997992,  8.17043249,\n",
    "        7.76857344,  7.44362327,  7.5690315 ,  7.45120514,  8.01811394,\n",
    "        6.74127683,  7.33489876,  7.39660014,  8.07593422,  7.87421961,\n",
    "        7.60266609,  7.024236  ,  7.02679314,  7.3306205 ,  6.86332661,\n",
    "        6.98493929,  7.1826914 ,  7.13175965,  7.53740826,  6.63565698,\n",
    "        6.77206956,  7.24480048,  6.93738271,  6.29372417,  6.90791775,\n",
    "        6.7815384 ,  6.61862893,  5.99543329,  5.89526005,  6.52135831,\n",
    "        6.139063  ,  6.77779031,  6.77711869,  6.46985602,  6.45670687,\n",
    "        6.56442897,  6.07594187,  5.80079092,  6.9849211 ,  5.4498528 ,\n",
    "        6.38525915]\"\"\"))"
   ]
  },
  {
   "cell_type": "markdown",
   "metadata": {},
   "source": [
    "- 데이터를 전처리해서\n",
    "- EDA 수행 후\n",
    "- 모델을 선택\n",
    "- 모델 parameter를 결정 (mse 가 최소가 되도록)"
   ]
  },
  {
   "cell_type": "code",
   "execution_count": 55,
   "metadata": {},
   "outputs": [
    {
     "data": {
      "text/plain": [
       "<matplotlib.collections.PathCollection at 0x7f15885a5c00>"
      ]
     },
     "execution_count": 55,
     "metadata": {},
     "output_type": "execute_result"
    },
    {
     "data": {
      "image/png": "[encoded data removed]",
      "text/plain": [
       "<Figure size 640x480 with 1 Axes>"
      ]
     },
     "metadata": {},
     "output_type": "display_data"
    }
   ],
   "source": [
    "y = -4.7*x+11.2\n",
    "plt.scatter(x,y,s=1)"
   ]
  },
  {
   "cell_type": "code",
   "execution_count": 56,
   "metadata": {},
   "outputs": [
    {
     "data": {
      "text/plain": [
       "<matplotlib.collections.PathCollection at 0x7f158841e080>"
      ]
     },
     "execution_count": 56,
     "metadata": {},
     "output_type": "execute_result"
    },
    {
     "data": {
      "image/png": "[encoded data removed]",
      "text/plain": [
       "<Figure size 640x480 with 1 Axes>"
      ]
     },
     "metadata": {},
     "output_type": "display_data"
    }
   ],
   "source": [
    "plt.scatter(x,y,s=1)"
   ]
  },
  {
   "cell_type": "code",
   "execution_count": 57,
   "metadata": {},
   "outputs": [],
   "source": [
    "fx=-4.7*x+11.2"
   ]
  },
  {
   "cell_type": "code",
   "execution_count": 58,
   "metadata": {},
   "outputs": [],
   "source": [
    "lin= Linear()\n",
    "lin.a, lin.b = -4.7, 11.2"
   ]
  },
  {
   "cell_type": "code",
   "execution_count": 59,
   "metadata": {},
   "outputs": [
    {
     "name": "stdout",
     "output_type": "stream",
     "text": [
      "f(x) =  -4.7 x +  11.2\n"
     ]
    },
    {
     "data": {
      "text/plain": [
       "0.0"
      ]
     },
     "execution_count": 59,
     "metadata": {},
     "output_type": "execute_result"
    },
    {
     "data": {
      "image/png": "[encoded data removed]",
      "text/plain": [
       "<Figure size 640x480 with 1 Axes>"
      ]
     },
     "metadata": {},
     "output_type": "display_data"
    }
   ],
   "source": [
    "print(\"f(x) = \",lin.a,\"x + \", lin.b)\n",
    "plt.scatter(x, lin(x), s=1)\n",
    "((lin(x) - y)**2).mean()"
   ]
  },
  {
   "cell_type": "code",
   "execution_count": 60,
   "metadata": {},
   "outputs": [
    {
     "ename": "IndentationError",
     "evalue": "expected an indented block after 'for' statement on line 7 (1331385439.py, line 8)",
     "output_type": "error",
     "traceback": [
      "\u001b[0;36m  Cell \u001b[0;32mIn[60], line 8\u001b[0;36m\u001b[0m\n\u001b[0;31m    lin.a , lin.b = i, j\u001b[0m\n\u001b[0m    ^\u001b[0m\n\u001b[0;31mIndentationError\u001b[0m\u001b[0;31m:\u001b[0m expected an indented block after 'for' statement on line 7\n"
     ]
    }
   ],
   "source": [
    "#기울기의 범위\n",
    "A_range=np.linspace(-5.5,-4.5,50) #50번 쪼개서 넣음\n",
    "#상수의 범위\n",
    "B_range=np.linspace(9.5,15,50)\n",
    "Min1=[0,0,999] #최솟값을 저장하는 리스트\n",
    "for i in A_range:\n",
    "    for j in B_range:\n",
    "    lin.a , lin.b = i, j\n",
    "    mse=((lin(x) - y)**2).mean()\n",
    "    print(\"i:\",i,\"j:\",j,\" / mse:\", mse)\n",
    "    if mse<Min1[2]:\n",
    "        Min1[0], Min1[1], Min1[2] = i, j, mse\n",
    "print(Min1)"
   ]
  },
  {
   "cell_type": "code",
   "execution_count": null,
   "metadata": {},
   "outputs": [
    {
     "ename": "IndentationError",
     "evalue": "expected an indented block after 'for' statement on line 7 (2304170168.py, line 8)",
     "output_type": "error",
     "traceback": [
      "\u001b[0;36m  Cell \u001b[0;32mIn[61], line 8\u001b[0;36m\u001b[0m\n\u001b[0;31m    lin.a , lin.b = i, j\u001b[0m\n\u001b[0m    ^\u001b[0m\n\u001b[0;31mIndentationError\u001b[0m\u001b[0;31m:\u001b[0m expected an indented block after 'for' statement on line 7\n"
     ]
    }
   ],
   "source": [
    "#기울기의 범위\n",
    "A_range=np.linspace(-4.0,-5.8,100) #50번 쪼개서 넣음\n",
    "#상수의 범위\n",
    "B_range=np.linspace(9.8,12.8,100)\n",
    "Min1=[0,0,999] #최솟값을 저장하는 리스트\n",
    "for i in A_range:\n",
    "    for j in B_range:\n",
    "    lin.a , lin.b = i, j\n",
    "    mse=((lin(x) - y)**2).mean()\n",
    "    print(\"i:\",i,\"j:\",j,\" / mse:\", mse)\n",
    "    if mse<Min1[2]:\n",
    "        Min1[0], Min1[1], Min1[2] = i, j, mse\n",
    "print(Min1)"
   ]
  }
 ],
 "metadata": {
  "kernelspec": {
   "display_name": "MathAI",
   "language": "python",
   "name": "python3"
  },
  "language_info": {
   "codemirror_mode": {
    "name": "ipython",
    "version": 3
   },
   "file_extension": ".py",
   "mimetype": "text/x-python",
   "name": "python",
   "nbconvert_exporter": "python",
   "pygments_lexer": "ipython3",
   "version": "3.10.13"
  }
 },
 "nbformat": 4,
 "nbformat_minor": 2
}
