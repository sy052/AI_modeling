{
  "cells": [
    {
      "cell_type": "code",
      "execution_count": 1,
      "metadata": {
        "colab": {
          "base_uri": "https://localhost:8080/"
        },
        "id": "E2SWUYAvnxBh",
        "outputId": "13a9b789-ebd5-4eaa-d3d4-33de8c767e62"
      },
      "outputs": [
        {
          "name": "stdout",
          "output_type": "stream",
          "text": [
            "46\n",
            "45.68\n",
            "45.678\n"
          ]
        }
      ],
      "source": [
        "# 예시\n",
        "\n",
        "# 반올림\n",
        "print(round(45.678))\n",
        "print(round(45.678,2))\n",
        "print(round(45.678,3))"
      ]
    },
    {
      "cell_type": "code",
      "execution_count": 2,
      "metadata": {
        "id": "Kdyy6qkJne0d"
      },
      "outputs": [],
      "source": [
        "import math"
      ]
    },
    {
      "cell_type": "code",
      "execution_count": 3,
      "metadata": {
        "colab": {
          "base_uri": "https://localhost:8080/"
        },
        "id": "ji699u3_n4c0",
        "outputId": "9c63b178-210e-462e-92f4-84ccf70256b9"
      },
      "outputs": [
        {
          "name": "stdout",
          "output_type": "stream",
          "text": [
            "45\n"
          ]
        }
      ],
      "source": [
        "# 소수 버림\n",
        "print(math.trunc(45.678))"
      ]
    },
    {
      "cell_type": "markdown",
      "metadata": {
        "id": "EWsdPhbfPWcC"
      },
      "source": [
        "# Q1. 소수 3자리 버리는 방법은?"
      ]
    },
    {
      "cell_type": "code",
      "execution_count": 4,
      "metadata": {
        "id": "ZAbXQ5hNn-Jq"
      },
      "outputs": [],
      "source": [
        "a = 45.678\n",
        "\n",
        "#목표: 45.67"
      ]
    },
    {
      "cell_type": "code",
      "execution_count": 5,
      "metadata": {
        "id": "RPrU0gIYOgxH"
      },
      "outputs": [],
      "source": [
        "# 나쁜 시도는 아니지만 정답은 아닌 시도\n",
        "\n",
        "# print(math.trunc(a,2))  # 이런 사용법이 없다."
      ]
    },
    {
      "cell_type": "code",
      "execution_count": 6,
      "metadata": {
        "id": "0kaaSTQROrcF"
      },
      "outputs": [],
      "source": [
        "# 관찰하기\n",
        "# print(a*100)\n",
        "# print(math.trunc(a*100))"
      ]
    },
    {
      "cell_type": "code",
      "execution_count": 7,
      "metadata": {
        "colab": {
          "base_uri": "https://localhost:8080/"
        },
        "id": "7tcVE75EOcnE",
        "outputId": "a3785c4e-0cca-4e19-edf7-f25411646f68"
      },
      "outputs": [
        {
          "name": "stdout",
          "output_type": "stream",
          "text": [
            "45.67\n"
          ]
        }
      ],
      "source": [
        "# A1. 정답\n",
        "print(math.trunc(a*100)/100)"
      ]
    },
    {
      "cell_type": "code",
      "execution_count": 8,
      "metadata": {
        "id": "-BfqGqU4oKS9"
      },
      "outputs": [],
      "source": [
        "# 덧.\n",
        "# print(int(a))\n",
        "# print(int(100*a))\n",
        "# print(int(100*a)/100)"
      ]
    },
    {
      "cell_type": "code",
      "execution_count": null,
      "metadata": {
        "id": "LquX8A21Pbyi"
      },
      "outputs": [],
      "source": []
    },
    {
      "cell_type": "code",
      "execution_count": 9,
      "metadata": {
        "id": "h32UsdRaoKHk"
      },
      "outputs": [],
      "source": [
        "import random"
      ]
    },
    {
      "cell_type": "code",
      "execution_count": 10,
      "metadata": {
        "colab": {
          "base_uri": "https://localhost:8080/"
        },
        "id": "C2jOTdLOoLG3",
        "outputId": "4bdb11c3-b3fa-46b9-c474-6fa7f100b85b"
      },
      "outputs": [
        {
          "name": "stdout",
          "output_type": "stream",
          "text": [
            "0.9082888028091581\n"
          ]
        }
      ],
      "source": [
        "print(random.random())  # float type이고 0이상 1미만의 수가 나온다."
      ]
    },
    {
      "cell_type": "markdown",
      "metadata": {
        "id": "MikZ3j9CPRuI"
      },
      "source": [
        "# Q2. random number가 1이상 4미만이 되도록 하는 방법은?"
      ]
    },
    {
      "cell_type": "code",
      "execution_count": 11,
      "metadata": {
        "colab": {
          "base_uri": "https://localhost:8080/"
        },
        "id": "NHAF4A-JC0-h",
        "outputId": "e96a4e41-dca5-43a0-ecb6-4cef207c1349"
      },
      "outputs": [
        {
          "data": {
            "text/plain": [
              "2.421524651795866"
            ]
          },
          "execution_count": 11,
          "metadata": {},
          "output_type": "execute_result"
        }
      ],
      "source": [
        "# 관찰하기1 : random number가 0이상 3미만이 되도록 하자!!\n",
        "\n",
        "# random.random()+random.random()+random.random()\n",
        "random.random()*3"
      ]
    },
    {
      "cell_type": "code",
      "execution_count": 12,
      "metadata": {
        "colab": {
          "base_uri": "https://localhost:8080/"
        },
        "id": "PYNXF1S4DMz1",
        "outputId": "a1903df8-f19f-4c0e-aee4-81940cbb2bd8"
      },
      "outputs": [
        {
          "data": {
            "text/plain": [
              "1.998265124025881"
            ]
          },
          "execution_count": 12,
          "metadata": {},
          "output_type": "execute_result"
        }
      ],
      "source": [
        "# 관찰하기2 : random number가 1이상 2미만이 되도록 하자!!\n",
        "\n",
        "random.random()+1"
      ]
    },
    {
      "cell_type": "markdown",
      "metadata": {
        "id": "3x2MdlPsPkHv"
      },
      "source": [
        "Idea:\n",
        "\n",
        "0 ≤ x < 1\n",
        "\n",
        "==> 1 ≤  ??? < 4\n",
        "\n",
        "==> ??? = 3X+1"
      ]
    },
    {
      "cell_type": "code",
      "execution_count": 13,
      "metadata": {
        "colab": {
          "base_uri": "https://localhost:8080/"
        },
        "id": "cmdQ1exZoMiw",
        "outputId": "5d0f3273-0894-4c29-8861-e1968c326167"
      },
      "outputs": [
        {
          "name": "stdout",
          "output_type": "stream",
          "text": [
            "3.7441001382020915\n"
          ]
        }
      ],
      "source": [
        "# A2.\n",
        "print(1+3*random.random())"
      ]
    },
    {
      "cell_type": "markdown",
      "metadata": {
        "id": "9cyuq_5Pof7f"
      },
      "source": [
        "#Q3. 올림픽 메달로 1등 국가 찾기\n",
        "(A_Ranking) : 금은동 메달 총갯수의 합이 많으면 1등\n",
        "\n",
        "(B_Ranking) : 금의 갯수가 많으면 은의 갯수의 상관 없이 1등, 같은 금의 갯수라면 은의 갯수로 비교하여 등수를 정함\n",
        "\n",
        "(C_Ranking) : (B_Ranking)의 방법을 가중치를 이용한 점수로 등수 정하기\n"
      ]
    },
    {
      "cell_type": "code",
      "execution_count": 14,
      "metadata": {
        "id": "TttEh0FKojG0"
      },
      "outputs": [],
      "source": [
        "data ={\n",
        "    'AAA':(1,0,10),\n",
        "    'BBB':(3,1,8),\n",
        "    'CCC':(3,5,2),\n",
        "    'DDD':(2,20,1),\n",
        "    'EEE':(2,20,3)\n",
        "}"
      ]
    },
    {
      "cell_type": "markdown",
      "metadata": {
        "id": "QiViNw6XiHXD"
      },
      "source": [
        "# Part1: pandas 이용하기"
      ]
    },
    {
      "cell_type": "code",
      "execution_count": 15,
      "metadata": {
        "id": "pi0Ko6YJFVwf"
      },
      "outputs": [],
      "source": [
        "import pandas as pd"
      ]
    },
    {
      "cell_type": "code",
      "execution_count": 16,
      "metadata": {
        "colab": {
          "base_uri": "https://localhost:8080/",
          "height": 143
        },
        "id": "w2heYrhKiG9b",
        "outputId": "ecea0bd1-dac6-422f-db63-d2d4c32fc834"
      },
      "outputs": [
        {
          "data": {
            "text/html": [
              "<div>\n",
              "<style scoped>\n",
              "    .dataframe tbody tr th:only-of-type {\n",
              "        vertical-align: middle;\n",
              "    }\n",
              "\n",
              "    .dataframe tbody tr th {\n",
              "        vertical-align: top;\n",
              "    }\n",
              "\n",
              "    .dataframe thead th {\n",
              "        text-align: right;\n",
              "    }\n",
              "</style>\n",
              "<table border=\"1\" class=\"dataframe\">\n",
              "  <thead>\n",
              "    <tr style=\"text-align: right;\">\n",
              "      <th></th>\n",
              "      <th>AAA</th>\n",
              "      <th>BBB</th>\n",
              "      <th>CCC</th>\n",
              "      <th>DDD</th>\n",
              "      <th>EEE</th>\n",
              "    </tr>\n",
              "  </thead>\n",
              "  <tbody>\n",
              "    <tr>\n",
              "      <th>0</th>\n",
              "      <td>1</td>\n",
              "      <td>3</td>\n",
              "      <td>3</td>\n",
              "      <td>2</td>\n",
              "      <td>2</td>\n",
              "    </tr>\n",
              "    <tr>\n",
              "      <th>1</th>\n",
              "      <td>0</td>\n",
              "      <td>1</td>\n",
              "      <td>5</td>\n",
              "      <td>20</td>\n",
              "      <td>20</td>\n",
              "    </tr>\n",
              "    <tr>\n",
              "      <th>2</th>\n",
              "      <td>10</td>\n",
              "      <td>8</td>\n",
              "      <td>2</td>\n",
              "      <td>1</td>\n",
              "      <td>3</td>\n",
              "    </tr>\n",
              "  </tbody>\n",
              "</table>\n",
              "</div>"
            ],
            "text/plain": [
              "   AAA  BBB  CCC  DDD  EEE\n",
              "0    1    3    3    2    2\n",
              "1    0    1    5   20   20\n",
              "2   10    8    2    1    3"
            ]
          },
          "execution_count": 16,
          "metadata": {},
          "output_type": "execute_result"
        }
      ],
      "source": [
        "df = pd.DataFrame(data)\n",
        "df"
      ]
    },
    {
      "cell_type": "code",
      "execution_count": 17,
      "metadata": {
        "colab": {
          "base_uri": "https://localhost:8080/",
          "height": 206
        },
        "id": "yOO__pNMo8ja",
        "outputId": "a1505bb6-c857-458d-ccf7-8bcc4b8c5719"
      },
      "outputs": [
        {
          "data": {
            "text/html": [
              "<div>\n",
              "<style scoped>\n",
              "    .dataframe tbody tr th:only-of-type {\n",
              "        vertical-align: middle;\n",
              "    }\n",
              "\n",
              "    .dataframe tbody tr th {\n",
              "        vertical-align: top;\n",
              "    }\n",
              "\n",
              "    .dataframe thead th {\n",
              "        text-align: right;\n",
              "    }\n",
              "</style>\n",
              "<table border=\"1\" class=\"dataframe\">\n",
              "  <thead>\n",
              "    <tr style=\"text-align: right;\">\n",
              "      <th></th>\n",
              "      <th>Gold</th>\n",
              "      <th>Silver</th>\n",
              "      <th>Bronze</th>\n",
              "    </tr>\n",
              "  </thead>\n",
              "  <tbody>\n",
              "    <tr>\n",
              "      <th>AAA</th>\n",
              "      <td>1</td>\n",
              "      <td>0</td>\n",
              "      <td>10</td>\n",
              "    </tr>\n",
              "    <tr>\n",
              "      <th>BBB</th>\n",
              "      <td>3</td>\n",
              "      <td>1</td>\n",
              "      <td>8</td>\n",
              "    </tr>\n",
              "    <tr>\n",
              "      <th>CCC</th>\n",
              "      <td>3</td>\n",
              "      <td>5</td>\n",
              "      <td>2</td>\n",
              "    </tr>\n",
              "    <tr>\n",
              "      <th>DDD</th>\n",
              "      <td>2</td>\n",
              "      <td>20</td>\n",
              "      <td>1</td>\n",
              "    </tr>\n",
              "    <tr>\n",
              "      <th>EEE</th>\n",
              "      <td>2</td>\n",
              "      <td>20</td>\n",
              "      <td>3</td>\n",
              "    </tr>\n",
              "  </tbody>\n",
              "</table>\n",
              "</div>"
            ],
            "text/plain": [
              "     Gold  Silver  Bronze\n",
              "AAA     1       0      10\n",
              "BBB     3       1       8\n",
              "CCC     3       5       2\n",
              "DDD     2      20       1\n",
              "EEE     2      20       3"
            ]
          },
          "execution_count": 17,
          "metadata": {},
          "output_type": "execute_result"
        }
      ],
      "source": [
        "New_df = df.T\n",
        "New_df.rename(columns = {0 : 'Gold', 1:'Silver', 2:'Bronze'}, inplace = True)\n",
        "New_df"
      ]
    },
    {
      "cell_type": "code",
      "execution_count": 18,
      "metadata": {
        "colab": {
          "base_uri": "https://localhost:8080/"
        },
        "id": "04FJmsZ7o8gy",
        "outputId": "8a330573-25f8-489b-8d17-ee9efc817b40"
      },
      "outputs": [
        {
          "name": "stdout",
          "output_type": "stream",
          "text": [
            "1st : EEE\n",
            "2nd : DDD\n",
            "3rd : BBB\n"
          ]
        }
      ],
      "source": [
        "# (Part1: A_Ranking)\n",
        "\n",
        "New_df['the_total_number_of_medals'] = New_df['Gold']+New_df['Silver']+New_df['Bronze']\n",
        "\n",
        "Method_a_Ranking = New_df.sort_values(by=['the_total_number_of_medals'], ascending=False)\n",
        "\n",
        "A_Ranking = Method_a_Ranking.index\n",
        "\n",
        "print(f\"1st : {A_Ranking[0]}\")\n",
        "print(f\"2nd : {A_Ranking[1]}\")\n",
        "print(f\"3rd : {A_Ranking[2]}\")"
      ]
    },
    {
      "cell_type": "code",
      "execution_count": 19,
      "metadata": {
        "colab": {
          "base_uri": "https://localhost:8080/"
        },
        "id": "qcuKiAflUGGk",
        "outputId": "1896ff63-8fba-4af0-fd37-3521a8faf35c"
      },
      "outputs": [
        {
          "name": "stdout",
          "output_type": "stream",
          "text": [
            "1st : CCC\n",
            "2nd : BBB\n",
            "3rd : EEE\n"
          ]
        }
      ],
      "source": [
        "# (Part1: B_Ranking)\n",
        "\n",
        "Method_b_Ranking = New_df.sort_values(by=['Gold', 'Silver','Bronze'], ascending=[False,False,False])\n",
        "\n",
        "B_Ranking = Method_b_Ranking.index\n",
        "\n",
        "print(f\"1st : {B_Ranking[0]}\")\n",
        "print(f\"2nd : {B_Ranking[1]}\")\n",
        "print(f\"3rd : {B_Ranking[2]}\")"
      ]
    },
    {
      "cell_type": "code",
      "execution_count": 20,
      "metadata": {
        "colab": {
          "base_uri": "https://localhost:8080/"
        },
        "id": "jXEaNiFho8Zv",
        "outputId": "efa17705-3612-43a0-d316-83a6e6c37a79"
      },
      "outputs": [
        {
          "name": "stdout",
          "output_type": "stream",
          "text": [
            "1st : CCC\n",
            "2nd : BBB\n",
            "3rd : EEE\n"
          ]
        }
      ],
      "source": [
        "# (Part1: C_Ranking)\n",
        "\n",
        "weighted_scores = [1000000000, 10000, 1]\n",
        "\n",
        "New_df['the_weighted_total_score'] = (weighted_scores[0]*New_df['Gold']\n",
        "                                       + weighted_scores[1]*New_df['Silver']\n",
        "                                       + weighted_scores[2]*New_df['Bronze'])\n",
        "\n",
        "Method_c_Ranking = New_df.sort_values(by=['the_weighted_total_score'], ascending=False)\n",
        "\n",
        "C_Ranking = Method_c_Ranking.index\n",
        "\n",
        "print(f\"1st : {C_Ranking[0]}\")\n",
        "print(f\"2nd : {C_Ranking[1]}\")\n",
        "print(f\"3rd : {C_Ranking[2]}\")"
      ]
    },
    {
      "cell_type": "code",
      "execution_count": null,
      "metadata": {
        "id": "ZbsYBNXkWgh4"
      },
      "outputs": [],
      "source": []
    },
    {
      "cell_type": "markdown",
      "metadata": {
        "id": "hK2SqLAoo7sd"
      },
      "source": [
        "# Part2: pandas 없이 코딩하기"
      ]
    },
    {
      "cell_type": "code",
      "execution_count": 21,
      "metadata": {
        "colab": {
          "base_uri": "https://localhost:8080/"
        },
        "id": "_7dLf9Z0iPgO",
        "outputId": "d94c9e3c-1fbc-4c21-c4c9-3ca0b1f9c688"
      },
      "outputs": [
        {
          "data": {
            "text/plain": [
              "{'AAA': (1, 0, 10),\n",
              " 'BBB': (3, 1, 8),\n",
              " 'CCC': (3, 5, 2),\n",
              " 'DDD': (2, 20, 1),\n",
              " 'EEE': (2, 20, 3)}"
            ]
          },
          "execution_count": 21,
          "metadata": {},
          "output_type": "execute_result"
        }
      ],
      "source": [
        "data"
      ]
    },
    {
      "cell_type": "code",
      "execution_count": 22,
      "metadata": {
        "colab": {
          "base_uri": "https://localhost:8080/"
        },
        "id": "DU2mvTj53Hg9",
        "outputId": "c7ac0a1c-f10e-4e19-adad-3924830b28d9"
      },
      "outputs": [
        {
          "name": "stdout",
          "output_type": "stream",
          "text": [
            "1st : EEE\n",
            "2nd : DDD\n",
            "3rd : BBB\n"
          ]
        }
      ],
      "source": [
        "# (Part2: rankings_A)\n",
        "rankings_A = sorted(data.keys(), key=lambda x: sum(data[x]), reverse=True)\n",
        "\n",
        "print(f\"1st : {rankings_A[0]}\")\n",
        "print(f\"2nd : {rankings_A[1]}\")\n",
        "print(f\"3rd : {rankings_A[2]}\")"
      ]
    },
    {
      "cell_type": "code",
      "execution_count": 23,
      "metadata": {
        "colab": {
          "base_uri": "https://localhost:8080/"
        },
        "id": "I-ELIDST3PTe",
        "outputId": "d6b57145-4a6c-4c45-d5da-3faec61b2cc4"
      },
      "outputs": [
        {
          "name": "stdout",
          "output_type": "stream",
          "text": [
            "1st : CCC\n",
            "2nd : BBB\n",
            "3rd : EEE\n"
          ]
        }
      ],
      "source": [
        "# (Part2: rankings_B)\n",
        "rankings_B = sorted(data.keys(), key=lambda x: (data[x][0], data[x][1], data[x][2]), reverse=True)\n",
        "\n",
        "print(f\"1st : {rankings_B[0]}\")\n",
        "print(f\"2nd : {rankings_B[1]}\")\n",
        "print(f\"3rd : {rankings_B[2]}\")"
      ]
    },
    {
      "cell_type": "code",
      "execution_count": 24,
      "metadata": {
        "colab": {
          "base_uri": "https://localhost:8080/"
        },
        "id": "_C3eSYYh2-M-",
        "outputId": "de288d34-c34a-47d3-9ba4-0fc5faeaf2db"
      },
      "outputs": [
        {
          "name": "stdout",
          "output_type": "stream",
          "text": [
            "1st : CCC\n",
            "2nd : BBB\n",
            "3rd : EEE\n"
          ]
        }
      ],
      "source": [
        "# (Part2: rankings_C)\n",
        "weighted_scores = {k: data[k][0] * 10000 + data[k][1] * 100 + data[k][2] for k in data}\n",
        "rankings_C = sorted(weighted_scores.keys(), key=lambda x: weighted_scores[x], reverse=True)\n",
        "\n",
        "print(f\"1st : {rankings_C[0]}\")\n",
        "print(f\"2nd : {rankings_C[1]}\")\n",
        "print(f\"3rd : {rankings_C[2]}\")"
      ]
    },
    {
      "cell_type": "code",
      "execution_count": null,
      "metadata": {
        "id": "YD5rjItP4Toh"
      },
      "outputs": [],
      "source": []
    }
  ],
  "metadata": {
    "colab": {
      "provenance": []
    },
    "kernelspec": {
      "display_name": "Python 3",
      "name": "python3"
    },
    "language_info": {
      "codemirror_mode": {
        "name": "ipython",
        "version": 3
      },
      "file_extension": ".py",
      "mimetype": "text/x-python",
      "name": "python",
      "nbconvert_exporter": "python",
      "pygments_lexer": "ipython3",
      "version": "3.10.13"
    }
  },
  "nbformat": 4,
  "nbformat_minor": 0
}
